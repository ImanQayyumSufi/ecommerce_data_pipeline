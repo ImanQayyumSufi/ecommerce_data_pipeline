{
 "cells": [
  {
   "cell_type": "code",
   "execution_count": 0,
   "metadata": {
    "application/vnd.databricks.v1+cell": {
     "cellMetadata": {
      "byteLimit": 2048000,
      "rowLimit": 10000
     },
     "inputWidgets": {},
     "nuid": "909bb610-680b-4c61-9377-ef5cd856a863",
     "showTitle": false,
     "title": ""
    }
   },
   "outputs": [],
   "source": [
    "from pyspark.sql import SparkSession\n",
    "from pyspark.sql.functions import *\n",
    "from pyspark.sql.types import *\n",
    "from pyspark.sql.functions import col, round\n",
    "\n",
    "spark = SparkSession.builder.appName(\"EcomDataPipeline\").getOrCreate()"
   ]
  },
  {
   "cell_type": "code",
   "execution_count": 0,
   "metadata": {
    "application/vnd.databricks.v1+cell": {
     "cellMetadata": {
      "byteLimit": 2048000,
      "rowLimit": 10000
     },
     "inputWidgets": {},
     "nuid": "2c9a0d0e-7279-4ee2-ab35-1306b1cd1983",
     "showTitle": false,
     "title": ""
    }
   },
   "outputs": [],
   "source": [
    "user_df = spark.read.format(\"delta\").load(\"/mnt/delta/tables/bronze/users\")\n",
    "\n",
    "# Normalize country codes to uppercase\n",
    "user_df.select(col(\"countrycode\"))\n",
    "user_df = user_df.withColumn(\"countrycode\", upper(col(\"countrycode\")))\n",
    "\n",
    "# Handling multiple languages with 'expr' and 'case when'\n",
    "user_df = user_df.withColumn(\"language_full\",\n",
    "\t\t\t\t\texpr(\"CASE WHEN language = 'EN' THEN 'English' \" +\n",
    "\t\t\t\t\t\t\t\t\"WHEN language = 'FR' THEN 'FRENCH' \" +\n",
    "\t\t\t\t\t\t\t\t\"ELSE 'Other' END\"))\n",
    "\n",
    "# Correcting potential data entry errors in 'gender' column\n",
    "user_df = user_df.withColumn(\"gender\",\n",
    "\t\t\t\twhen(col(\"gender\").startswith(\"M\"), \"Male\")\n",
    "\t\t\t\t.when(col(\"gender\").startswith(\"F\"), \"Female\")\n",
    "\t\t\t\t.otherwise(\"Other\"))\n",
    "\n",
    "# Using 'regexp_replace' to clean 'civilitytittle' values\n",
    "user_df = user_df.withColumn(\"civilitytitle_clean\",\n",
    "\t\t\t\tregexp_replace(\"civilitytitle\", \"(Mme|Ms|Mrs)\", \"Ms\"))\n",
    "\n",
    "# Calculate age of account in years and categorize into 'account_age_group'\n",
    "user_df = user_df.withColumn(\"account_age_years\", round(col(\"seniority\") / 365, 2))\n",
    "user_df = user_df.withColumn(\"account_age_group\",\n",
    "\t\t\t\twhen(col(\"account_age_years\") < 1, \"New\")\n",
    "\t\t\t\t.when((col(\"account_Age_years\") >= 1) & (col(\"account_age_years\") < 3),\n",
    "\t\t\t\t\"Intermediate\")\n",
    "\t\t\t\t.otherwise(\"Experienced\"))\n",
    "\n",
    "# Add a column with the current year for comparison\n",
    "user_df = user_df.withColumn(\"current_year\", year(current_date()))\n",
    "\n",
    "# Combnining strings to form a unique user description\n",
    "user_df = user_df.withColumn(\"user_descriptor\",\n",
    "\t\t\t\tconcat(col(\"gender\"), lit(\"_\"),\n",
    "\t\t\t\tcol(\"countrycode\"), lit(\"_\"),\n",
    "\t\t\t\texpr(\"substring(civilitytitle_clean, 1, 3)\"), lit(\"_\"),\n",
    "\t\t\t\tcol(\"language_full\")))\n",
    "\t\t\t\t\n",
    "user_df = user_df.withColumn(\"flag_long_title\", length(col(\"civilitytitle\"))>10)\n",
    "\n",
    "# Make columns into proper data type\n",
    "user_df = user_df.withColumn(\"hasprofilepicture\", col(\"hasprofilepicture\").cast(\"boolean\"))\n",
    "\n",
    "user_df = user_df.withColumn(\"socialnbfollowers\", col(\"socialnbfollowers\").cast(IntegerType()))\n",
    "user_df = user_df.withColumn(\"socialnbfollows\", col(\"socialnbfollows\").cast(IntegerType()))\n",
    "\n",
    "user_df = user_df.withColumn(\"productspassrate\", col(\"productspassrate\").cast(DecimalType(10,2)))\n",
    "user_df = user_df.withColumn(\"seniorityasmonths\", col(\"seniorityasmonths\").cast(DecimalType(10,2)))\n",
    "user_df = user_df.withColumn(\"seniorityasyears\", col(\"seniorityasyears\").cast(DecimalType(10,2)))"
   ]
  },
  {
   "cell_type": "code",
   "execution_count": 0,
   "metadata": {
    "application/vnd.databricks.v1+cell": {
     "cellMetadata": {
      "byteLimit": 2048000,
      "rowLimit": 10000
     },
     "inputWidgets": {},
     "nuid": "5e5c46a7-d4b2-4465-b7b9-1023d3333dc7",
     "showTitle": false,
     "title": ""
    }
   },
   "outputs": [],
   "source": [
    "# Save user to silver db\n",
    "user_df.write.format(\"delta\").mode(\"overwrite\").save(\"/mnt/delta/tables/silver/users\")"
   ]
  },
  {
   "cell_type": "code",
   "execution_count": 0,
   "metadata": {
    "application/vnd.databricks.v1+cell": {
     "cellMetadata": {
      "byteLimit": 2048000,
      "rowLimit": 10000
     },
     "inputWidgets": {},
     "nuid": "f05bd252-37ae-4bd3-9f67-a934abe47e6e",
     "showTitle": false,
     "title": ""
    }
   },
   "outputs": [],
   "source": [
    "buyer_df = spark.read.format(\"delta\").load(\"/mnt/delta/tables/bronze/buyers\")\n",
    "\n",
    "# Change to proper data type\n",
    "integer_columns = ['buyers', 'topbuyers', 'femalebuyers', 'malebuyers','totalproductsbought','totalproductswished','totalproductsliked','toptotalproductsbought','toptotalproductswished','toptotalproductsliked']\n",
    "\n",
    "for column_name in integer_columns:\n",
    "    buyer_df = buyer_df.withColumn(column_name, col(column_name).cast(IntegerType()))\n",
    "\n",
    "float_columns = ['topbuyerratio', 'femalebuyersratio', 'topfemalebuyersratio', 'boughtperwishlistratio', 'boughtperlikeratio', 'topboughtperwishlistratio', 'topboughtperlikeratio', 'meanproductsbought', 'meanproductswished', \n",
    "    'meanproductsliked','topmeanproductsbought', 'topmeanproductswished', 'topmeanproductsliked', 'meanofflinedays', 'topmeanofflinedays', 'meanfollowers', 'meanfollowing', 'topmeanfollowers', 'topmeanfollowing']\n",
    "\n",
    "for column_name in float_columns:\n",
    "    buyer_df = buyer_df.withColumn(column_name, col(column_name).cast(FloatType()))"
   ]
  },
  {
   "cell_type": "code",
   "execution_count": 0,
   "metadata": {
    "application/vnd.databricks.v1+cell": {
     "cellMetadata": {
      "byteLimit": 2048000,
      "rowLimit": 10000
     },
     "inputWidgets": {},
     "nuid": "e1daf0b5-7a47-4f81-a7dd-7a7a1c8d5629",
     "showTitle": false,
     "title": ""
    }
   },
   "outputs": [],
   "source": [
    "# Normalize country names\n",
    "buyer_df = buyer_df.withColumn(\"country\", initcap(col(\"country\")))\n",
    "\n",
    "for col_name in integer_columns:\n",
    "\tbuyer_df = buyer_df.fillna({col_name:0})\n",
    "\n",
    "# Calculate the ratio of female to male buyers\n",
    "buyer_df = buyer_df.withColumn(\n",
    "    \"female_to_male_ratio\",\n",
    "    round((col(\"femalebuyers\") / col(\"malebuyers\")) + 1, 2)\n",
    ")\n",
    "\n",
    "# Determine the market potential by comparing wishlist and purchases\n",
    "buyer_df = buyer_df.withColumn(\n",
    "    \"wishlist_to_purchase_ratio\",\n",
    "    round((col(\"totalproductswished\") / col(\"totalproductsbought\")) + 1, 2)\n",
    ")\n",
    "\t\t\n",
    "# Tag countries with a high engagement ratio\n",
    "high_engagement_threshold = 0.5\n",
    "buyer_df = buyer_df.withColumn(\"high_engagement\",\n",
    "\t\twhen(col(\"boughtperwishlistratio\") > high_engagement_threshold , True).\n",
    "\t\totherwise(False))\n",
    "\n",
    "# Flag markets with increasing female buyer participation\n",
    "buyer_df = buyer_df.withColumn(\"growing_female_market\",\n",
    "\t\twhen(col(\"femalebuyersratio\") > col(\"topfemalebuyersratio\"), True).\n",
    "\t\totherwise(False))"
   ]
  },
  {
   "cell_type": "code",
   "execution_count": 0,
   "metadata": {
    "application/vnd.databricks.v1+cell": {
     "cellMetadata": {
      "byteLimit": 2048000,
      "rowLimit": 10000
     },
     "inputWidgets": {},
     "nuid": "ded0754c-2ef4-4901-93c6-14350e9c2db2",
     "showTitle": false,
     "title": ""
    }
   },
   "outputs": [],
   "source": [
    "# Save buyer to silver db\n",
    "buyer_df .write.format(\"delta\").mode(\"overwrite\").save(\"/mnt/delta/tables/silver/buyers\")"
   ]
  },
  {
   "cell_type": "code",
   "execution_count": 0,
   "metadata": {
    "application/vnd.databricks.v1+cell": {
     "cellMetadata": {
      "byteLimit": 2048000,
      "rowLimit": 10000
     },
     "inputWidgets": {},
     "nuid": "34f2c6f2-6f2d-4ed7-ba07-53316e3c35d4",
     "showTitle": false,
     "title": ""
    }
   },
   "outputs": [],
   "source": [
    "seller_df = spark.read.format(\"delta\").load(\"/mnt/delta/tables/bronze/sellers\")\n",
    "\n",
    "# change data type\n",
    "seller_df = seller_df \\\n",
    "    .withColumn(\"nbsellers\", col(\"nbsellers\").cast(IntegerType())) \\\n",
    "    .withColumn(\"meanproductssold\", col(\"meanproductssold\").cast(DecimalType(10, 2))) \\\n",
    "    .withColumn(\"meanproductslisted\", col(\"meanproductslisted\").cast(DecimalType(10, 2))) \\\n",
    "    .withColumn(\"meansellerpassrate\", col(\"meansellerpassrate\").cast(DecimalType(10, 2))) \\\n",
    "    .withColumn(\"totalproductssold\", col(\"totalproductssold\").cast(IntegerType())) \\\n",
    "    .withColumn(\"totalproductslisted\", col(\"totalproductslisted\").cast(IntegerType())) \\\n",
    "    .withColumn(\"meanproductsbought\", col(\"meanproductsbought\").cast(DecimalType(10, 2))) \\\n",
    "    .withColumn(\"meanproductswished\", col(\"meanproductswished\").cast(DecimalType(10, 2))) \\\n",
    "    .withColumn(\"meanproductsliked\", col(\"meanproductsliked\").cast(DecimalType(10, 2))) \\\n",
    "    .withColumn(\"totalbought\", col(\"totalbought\").cast(IntegerType())) \\\n",
    "    .withColumn(\"totalwished\", col(\"totalwished\").cast(IntegerType())) \\\n",
    "    .withColumn(\"totalproductsliked\", col(\"totalproductsliked\").cast(IntegerType())) \\\n",
    "    .withColumn(\"meanfollowers\", col(\"meanfollowers\").cast(DecimalType(10, 2))) \\\n",
    "    .withColumn(\"meanfollows\", col(\"meanfollows\").cast(DecimalType(10, 2))) \\\n",
    "    .withColumn(\"percentofappusers\", col(\"percentofappusers\").cast(DecimalType(10, 2))) \\\n",
    "    .withColumn(\"percentofiosusers\", col(\"percentofiosusers\").cast(DecimalType(10, 2))) \\\n",
    "    .withColumn(\"meanseniority\", col(\"meanseniority\").cast(DecimalType(15, 4)))\n"
   ]
  },
  {
   "cell_type": "code",
   "execution_count": 0,
   "metadata": {
    "application/vnd.databricks.v1+cell": {
     "cellMetadata": {
      "byteLimit": 2048000,
      "rowLimit": 10000
     },
     "inputWidgets": {},
     "nuid": "2eaad979-db82-4019-b26c-9b13e65ce1ca",
     "showTitle": false,
     "title": ""
    }
   },
   "outputs": [],
   "source": [
    "# Normalize country names and gender values\n",
    "seller_df = seller_df .withColumn(\"country\", initcap(col(\"country\"))) \\\n",
    "                                                .withColumn(\"sex\", upper(col(\"sex\")))\n",
    "\n",
    "\n",
    "#Add a column to categorize the number of sellers\n",
    "seller_df = seller_df .withColumn(\"seller_size_category\", \n",
    "                               when(col(\"nbsellers\") < 500, \"Small\") \\\n",
    "                               .when((col(\"nbsellers\") >= 500) & (col(\"nbsellers\") < 2000), \"Medium\") \\\n",
    "                               .otherwise(\"Large\"))\n",
    "\n",
    "# Calculate the mean products listed per seller as an indicator of seller activity\n",
    "seller_df = seller_df .withColumn(\"mean_products_listed_per_seller\", \n",
    "                               round(col(\"totalproductslisted\") / col(\"nbsellers\"), 2))\n",
    "\n",
    "# Identify markets with high seller pass rate\n",
    "seller_df = seller_df .withColumn(\"high_seller_pass_rate\", \n",
    "                               when(col(\"meansellerpassrate\") > 0.75, \"High\") \\\n",
    "                               .otherwise(\"Normal\"))\n",
    "\n",
    "mean_pass_rate = seller_df .select(round(avg(\"meansellerpassrate\"), 2).alias(\"avg_pass_rate\")).collect()[0][\"avg_pass_rate\"]\n",
    "\n",
    "seller_df = seller_df .withColumn(\"meansellerpassrate\",\n",
    "                                 when(col(\"meansellerpassrate\").isNull(), mean_pass_rate)\n",
    "                                 .otherwise(col(\"meansellerpassrate\")))"
   ]
  },
  {
   "cell_type": "code",
   "execution_count": 0,
   "metadata": {
    "application/vnd.databricks.v1+cell": {
     "cellMetadata": {
      "byteLimit": 2048000,
      "rowLimit": 10000
     },
     "inputWidgets": {},
     "nuid": "368ae2d8-6c5b-4321-86c1-2c335a1abd3a",
     "showTitle": false,
     "title": ""
    }
   },
   "outputs": [],
   "source": [
    "seller_df .write.format(\"delta\").mode(\"overwrite\").save(\"/mnt/delta/tables/silver/sellers\")"
   ]
  },
  {
   "cell_type": "code",
   "execution_count": 0,
   "metadata": {
    "application/vnd.databricks.v1+cell": {
     "cellMetadata": {
      "byteLimit": 2048000,
      "rowLimit": 10000
     },
     "inputWidgets": {},
     "nuid": "f05270a2-6ee0-41a0-8ff9-5991fbf645c5",
     "showTitle": false,
     "title": ""
    }
   },
   "outputs": [],
   "source": [
    "country_df= spark.read.format(\"delta\").load(\"/mnt/delta/tables/bronze/countries\")\n",
    "\n",
    "country_df= country_df\\\n",
    "    .withColumn(\"sellers\", col(\"sellers\").cast(IntegerType())) \\\n",
    "    .withColumn(\"topsellers\", col(\"topsellers\").cast(IntegerType())) \\\n",
    "    .withColumn(\"topsellerratio\", col(\"topsellerratio\").cast(DecimalType(10, 2))) \\\n",
    "    .withColumn(\"femalesellersratio\", col(\"femalesellersratio\").cast(DecimalType(10, 2))) \\\n",
    "    .withColumn(\"topfemalesellersratio\", col(\"topfemalesellersratio\").cast(DecimalType(10, 2))) \\\n",
    "    .withColumn(\"femalesellers\", col(\"femalesellers\").cast(IntegerType())) \\\n",
    "    .withColumn(\"malesellers\", col(\"malesellers\").cast(IntegerType())) \\\n",
    "    .withColumn(\"topfemalesellers\", col(\"topfemalesellers\").cast(IntegerType())) \\\n",
    "    .withColumn(\"topmalesellers\", col(\"topmalesellers\").cast(IntegerType())) \\\n",
    "    .withColumn(\"countrysoldratio\", col(\"countrysoldratio\").cast(DecimalType(10, 2))) \\\n",
    "    .withColumn(\"bestsoldratio\", col(\"bestsoldratio\").cast(DecimalType(10, 2))) \\\n",
    "    .withColumn(\"toptotalproductssold\", col(\"toptotalproductssold\").cast(IntegerType())) \\\n",
    "    .withColumn(\"totalproductssold\", col(\"totalproductssold\").cast(IntegerType())) \\\n",
    "    .withColumn(\"toptotalproductslisted\", col(\"toptotalproductslisted\").cast(IntegerType())) \\\n",
    "    .withColumn(\"totalproductslisted\", col(\"totalproductslisted\").cast(IntegerType())) \\\n",
    "    .withColumn(\"topmeanproductssold\", col(\"topmeanproductssold\").cast(DecimalType(10, 2))) \\\n",
    "    .withColumn(\"topmeanproductslisted\", col(\"topmeanproductslisted\").cast(DecimalType(10, 2))) \\\n",
    "    .withColumn(\"meanproductssold\", col(\"meanproductssold\").cast(DecimalType(10, 2))) \\\n",
    "    .withColumn(\"meanproductslisted\", col(\"meanproductslisted\").cast(DecimalType(10, 2))) \\\n",
    "    .withColumn(\"meanofflinedays\", col(\"meanofflinedays\").cast(DecimalType(10, 2))) \\\n",
    "    .withColumn(\"topmeanofflinedays\", col(\"topmeanofflinedays\").cast(DecimalType(10, 2))) \\\n",
    "    .withColumn(\"meanfollowers\", col(\"meanfollowers\").cast(DecimalType(10, 2))) \\\n",
    "    .withColumn(\"meanfollowing\", col(\"meanfollowing\").cast(DecimalType(10, 2))) \\\n",
    "    .withColumn(\"topmeanfollowers\", col(\"topmeanfollowers\").cast(DecimalType(10, 2))) \\\n",
    "    .withColumn(\"topmeanfollowing\", col(\"topmeanfollowing\").cast(DecimalType(10, 2)))\n",
    "\n",
    "country_df= country_df.withColumn(\"country\", initcap(col(\"country\")))\n",
    "\n",
    "\n",
    "# Calculating the ratio of top sellers to total sellers\n",
    "country_df= country_df.withColumn(\"top_seller_ratio\", \n",
    "                                        round(col(\"topsellers\") / col(\"sellers\"), 2))\n",
    "\n",
    "# countriesDF countries with a high ratio of female sellers\n",
    "country_df= country_df.withColumn(\"high_female_seller_ratio\", \n",
    "                                        when(col(\"femalesellersratio\") > 0.5, True).otherwise(False))\n",
    "\n",
    "# Adding a performance indicator based on the sold/listed ratio\n",
    "country_df= country_df.withColumn(\"performance_indicator\", \n",
    "                                        round(col(\"toptotalproductssold\") / (col(\"toptotalproductslisted\") + 1), 2))\n",
    "\n",
    "# Flag countries with exceptionally high performance\n",
    "performance_threshold = 0.8\n",
    "country_df= country_df.withColumn(\"high_performance\", \n",
    "                                        when(col(\"performance_indicator\") > performance_threshold, True).otherwise(False))\n",
    "\n",
    "country_df= country_df.withColumn(\"activity_level\",\n",
    "                                       when(col(\"meanofflinedays\") < 30, \"Highly Active\")\n",
    "                                       .when((col(\"meanofflinedays\") >= 30) & (col(\"meanofflinedays\") < 60), \"Moderately Active\")\n",
    "                                       .otherwise(\"Low Activity\"))\n"
   ]
  },
  {
   "cell_type": "code",
   "execution_count": 0,
   "metadata": {
    "application/vnd.databricks.v1+cell": {
     "cellMetadata": {
      "byteLimit": 2048000,
      "rowLimit": 10000
     },
     "inputWidgets": {},
     "nuid": "a893f741-96e5-44f7-87db-cba128c188fe",
     "showTitle": false,
     "title": ""
    }
   },
   "outputs": [],
   "source": [
    "country_df.write.format(\"delta\").mode(\"overwrite\").save(\"/mnt/delta/tables/silver/countries\")"
   ]
  },
  {
   "cell_type": "code",
   "execution_count": 0,
   "metadata": {
    "application/vnd.databricks.v1+cell": {
     "cellMetadata": {},
     "inputWidgets": {},
     "nuid": "1a0ad526-b194-4014-9419-90a7a99078e5",
     "showTitle": false,
     "title": ""
    }
   },
   "outputs": [],
   "source": []
  }
 ],
 "metadata": {
  "application/vnd.databricks.v1+notebook": {
   "dashboards": [],
   "environmentMetadata": {
    "base_environment": "",
    "client": "1"
   },
   "language": "python",
   "notebookMetadata": {
    "pythonIndentUnit": 4
   },
   "notebookName": "Silver Layer",
   "widgets": {}
  }
 },
 "nbformat": 4,
 "nbformat_minor": 0
}
